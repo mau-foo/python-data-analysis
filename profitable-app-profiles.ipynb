{
 "cells": [
  {
   "cell_type": "markdown",
   "metadata": {},
   "source": [
    "# Determine a profitable app profile for the App Store and Google Play # \n",
    "\n",
    "In this project, we aim to build an app profile based on the most profitable apps from the Google Play and Apple Store datasets. We will use this profile to build an app that can operate on both the iOS and Android platform.  \n",
    "\n",
    "Our pre-condition for the app profile is that it must be free. Main source of revenue will come from in-app ads. This means that our revenue for any given app is mostly influenced by the number of users that use our app. Our goal for this project is to analyze data to help our developers understand what kinds of apps are likely to attract more users."
   ]
  },
  {
   "cell_type": "markdown",
   "metadata": {},
   "source": [
    "# Exploring the data collected from Kaggle#\n",
    "\n",
    "Collecting data for over four million apps requires a significant amount of time and money, so we'll try to analyze a sample of data instead. Kaggle has public datasets available for Google Play and Apple Store data.\n",
    "\n",
    "Google Play dataset contains approximately 10,000 Android apps which was collected in August 2018.\n",
    "\n",
    "Apple Store dataset contains approximately 7,000 iOS apps which was collected in July 2017."
   ]
  },
  {
   "cell_type": "code",
   "execution_count": 61,
   "metadata": {
    "collapsed": false
   },
   "outputs": [],
   "source": [
    "## Import modules ##\n",
    "from csv import reader\n",
    "\n",
    "## Apple Store dataset ##\n",
    "with open('AppleStore.csv') as f:\n",
    "    apple_dataset = list(reader(f))\n",
    "    apple_header  = apple_dataset.pop(0) # store header\n",
    "\n",
    "## Google Play dataset ##\n",
    "with open('googleplaystore.csv', 'r') as f:\n",
    "    android_dataset = list(reader(f))\n",
    "    android_header  = android_dataset.pop(0) # store header"
   ]
  },
  {
   "cell_type": "code",
   "execution_count": 62,
   "metadata": {
    "collapsed": false
   },
   "outputs": [],
   "source": [
    "## Function for data exploration ##\n",
    "def explore_data(dataset, start, end, rows_and_columns=False, header=None):\n",
    "    dataset_slice = dataset[start:end]\n",
    "    \n",
    "    if header is not None:\n",
    "        print('Column Names: ', header, '\\n')\n",
    "    \n",
    "    for row in dataset_slice:\n",
    "        print(row, '\\n')\n",
    "        \n",
    "    if rows_and_columns:\n",
    "        print('Number of rows:', len(dataset))\n",
    "        print('Number of columns: ', len(dataset[0]))"
   ]
  },
  {
   "cell_type": "code",
   "execution_count": 63,
   "metadata": {
    "collapsed": false
   },
   "outputs": [
    {
     "name": "stdout",
     "output_type": "stream",
     "text": [
      "Column Names:  ['id', 'track_name', 'size_bytes', 'currency', 'price', 'rating_count_tot', 'rating_count_ver', 'user_rating', 'user_rating_ver', 'ver', 'cont_rating', 'prime_genre', 'sup_devices.num', 'ipadSc_urls.num', 'lang.num', 'vpp_lic'] \n",
      "\n",
      "['284882215', 'Facebook', '389879808', 'USD', '0.0', '2974676', '212', '3.5', '3.5', '95.0', '4+', 'Social Networking', '37', '1', '29', '1'] \n",
      "\n",
      "['389801252', 'Instagram', '113954816', 'USD', '0.0', '2161558', '1289', '4.5', '4.0', '10.23', '12+', 'Photo & Video', '37', '0', '29', '1'] \n",
      "\n",
      "['529479190', 'Clash of Clans', '116476928', 'USD', '0.0', '2130805', '579', '4.5', '4.5', '9.24.12', '9+', 'Games', '38', '5', '18', '1'] \n",
      "\n",
      "Number of rows: 7197\n",
      "Number of columns:  16\n"
     ]
    }
   ],
   "source": [
    "## Display number of rows and columns plus a few rows of the Apple Store dataset ##\n",
    "explore_data(apple_dataset, 0, 3, True, apple_header)"
   ]
  },
  {
   "cell_type": "markdown",
   "metadata": {},
   "source": [
    "The columns that can be useful for our analysis are 'track_name','currency','price','rating_count_tot','user_rating','prime_genre','sup_devices.num'. For more information about these columns please click on the link. \n",
    "\n",
    "Link: https://www.kaggle.com/ramamet4/app-store-apple-data-set-10k-apps/home"
   ]
  },
  {
   "cell_type": "code",
   "execution_count": 64,
   "metadata": {
    "collapsed": false
   },
   "outputs": [
    {
     "name": "stdout",
     "output_type": "stream",
     "text": [
      "Column Names:  ['App', 'Category', 'Rating', 'Reviews', 'Size', 'Installs', 'Type', 'Price', 'Content Rating', 'Genres', 'Last Updated', 'Current Ver', 'Android Ver'] \n",
      "\n",
      "['Photo Editor & Candy Camera & Grid & ScrapBook', 'ART_AND_DESIGN', '4.1', '159', '19M', '10,000+', 'Free', '0', 'Everyone', 'Art & Design', 'January 7, 2018', '1.0.0', '4.0.3 and up'] \n",
      "\n",
      "['Coloring book moana', 'ART_AND_DESIGN', '3.9', '967', '14M', '500,000+', 'Free', '0', 'Everyone', 'Art & Design;Pretend Play', 'January 15, 2018', '2.0.0', '4.0.3 and up'] \n",
      "\n",
      "['U Launcher Lite – FREE Live Cool Themes, Hide Apps', 'ART_AND_DESIGN', '4.7', '87510', '8.7M', '5,000,000+', 'Free', '0', 'Everyone', 'Art & Design', 'August 1, 2018', '1.2.4', '4.0.3 and up'] \n",
      "\n",
      "Number of rows: 10841\n",
      "Number of columns:  13\n"
     ]
    }
   ],
   "source": [
    "## Display number of rows and columns plus a few rows of the Google Play dataset ##\n",
    "explore_data(android_dataset, 0, 3, True, android_header)"
   ]
  },
  {
   "cell_type": "markdown",
   "metadata": {
    "collapsed": false
   },
   "source": [
    "The columns that can be useful for our analysis are 'app','category','rating','reviews','installs','Type,'Price','Content Rating','Genres'. For more information about these columns please click on the link.\n",
    "\n",
    "Link: https://www.kaggle.com/lava18/google-play-store-apps/home"
   ]
  },
  {
   "cell_type": "markdown",
   "metadata": {},
   "source": [
    "# Data cleaning #\n",
    "\n",
    "After investigating the discussion forum at Kaggle for the Google Play and Apple Store datasets, we find a discuss about an error occuring in row 10,472. It looks like the row is missing an element. My solution is to populate the missing element with an empty value."
   ]
  },
  {
   "cell_type": "code",
   "execution_count": 65,
   "metadata": {
    "collapsed": false
   },
   "outputs": [],
   "source": [
    "## Populate missing element in Android dataset index 10472 ##\n",
    "android_dataset[10472] = ['Life Made WI-Fi Touchscreen Photo Frame','','1.9','19','3.0M','1,000+','Free','0','Everyone','','February 11, 2018','1.0.19','4.0 and up']"
   ]
  },
  {
   "cell_type": "markdown",
   "metadata": {},
   "source": [
    "# Removing Duplicate Entries #\n",
    "After researching the data within Kaggle, we find that some apps have duplicate entries. In the next cells we calculate how many duplicates exist in our datasets and display a few apps that contain duplicates"
   ]
  },
  {
   "cell_type": "code",
   "execution_count": 66,
   "metadata": {
    "collapsed": false
   },
   "outputs": [
    {
     "name": "stdout",
     "output_type": "stream",
     "text": [
      "Examples of duplicate apps: ['VR Roller Coaster', 'Mannequin Challenge'] \n",
      "\n",
      "Number of duplicate apps: 2\n"
     ]
    }
   ],
   "source": [
    "## Identify Apple Store apps that contain duplicates and total duplicates ##\n",
    "apple_dict = dict()\n",
    "\n",
    "for row in apple_dataset:\n",
    "    app = row[1]\n",
    "    \n",
    "    if app in apple_dict:\n",
    "        apple_dict[app] += 1\n",
    "    else:\n",
    "        apple_dict[app] = 0\n",
    "\n",
    "apple_duplicates = [key for key, value in apple_dict.items() if value >= 1]\n",
    "total_apple_duplicates = sum(value for value in apple_dict.values() if value >= 1)\n",
    "print('Examples of duplicate apps:', apple_duplicates, '\\n')\n",
    "print('Number of duplicate apps:', total_apple_duplicates)"
   ]
  },
  {
   "cell_type": "code",
   "execution_count": 67,
   "metadata": {
    "collapsed": false
   },
   "outputs": [
    {
     "name": "stdout",
     "output_type": "stream",
     "text": [
      "Examples of duplicate apps: ['Google Earth', 'Calls & Text by Mo+', 'Motorola FM Radio', 'Expedia Hotels, Flights & Car Rental Travel Deals', 'Amazon for Tablets'] \n",
      "\n",
      "Number of duplicate apps: 1181\n"
     ]
    }
   ],
   "source": [
    "## Identify Google Play apps that contain duplicates and total duplicates ##\n",
    "android_dict = dict()\n",
    "\n",
    "for row in android_dataset:\n",
    "    app = row[0]\n",
    "    \n",
    "    if app in android_dict:\n",
    "        android_dict[app] += 1\n",
    "    else:\n",
    "        android_dict[app] = 0\n",
    "\n",
    "android_duplicates = [key for key, value in android_dict.items() if value >= 1]\n",
    "total_android_duplicates = sum(value for value in android_dict.values() if value >= 1)\n",
    "print('Examples of duplicate apps:', android_duplicates[:5], '\\n')\n",
    "print('Number of duplicate apps:', total_android_duplicates)"
   ]
  },
  {
   "cell_type": "markdown",
   "metadata": {
    "collapsed": false
   },
   "source": [
    "The approach to remove duplicates will be based highest number of reviews in index 3 (column name: reviews). Reasoning being that the higher the number of reviews, the more recent the data should be. \n",
    "\n",
    "Now, let's create a dictionary that contains the max review for each app. For the duplicate cases, we'll only keep the entries that match their max review dictionary counterpart."
   ]
  },
  {
   "cell_type": "code",
   "execution_count": 68,
   "metadata": {
    "collapsed": false
   },
   "outputs": [
    {
     "name": "stdout",
     "output_type": "stream",
     "text": [
      "Unique app count:  9660\n"
     ]
    }
   ],
   "source": [
    "## Create dictionary containing all Google Play apps and their highest number of reviews ##\n",
    "reviews_max = dict()\n",
    "\n",
    "for row in android_dataset:\n",
    "    name = row[0]\n",
    "    n_reviews = float(row[3])\n",
    "    \n",
    "    if name in reviews_max and reviews_max[name] < n_reviews:\n",
    "        reviews_max[name] = n_reviews\n",
    "    elif name not in reviews_max:\n",
    "        reviews_max[name] = n_reviews\n",
    "        \n",
    "print('Unique app count: ', len(reviews_max))"
   ]
  },
  {
   "cell_type": "code",
   "execution_count": 69,
   "metadata": {
    "collapsed": false
   },
   "outputs": [],
   "source": [
    "## Create list of Google Play apps with duplicates removed ##\n",
    "android_clean = list()\n",
    "android_already_added = list()\n",
    "\n",
    "for row in android_dataset:\n",
    "    name = row[0]\n",
    "    n_reviews = float(row[3])\n",
    "    \n",
    "    if (reviews_max[name] == n_reviews) and (name not in android_already_added):\n",
    "        android_clean.append(row)\n",
    "        android_already_added.append(name)"
   ]
  },
  {
   "cell_type": "code",
   "execution_count": 70,
   "metadata": {
    "collapsed": false
   },
   "outputs": [
    {
     "name": "stdout",
     "output_type": "stream",
     "text": [
      "['Photo Editor & Candy Camera & Grid & ScrapBook', 'ART_AND_DESIGN', '4.1', '159', '19M', '10,000+', 'Free', '0', 'Everyone', 'Art & Design', 'January 7, 2018', '1.0.0', '4.0.3 and up'] \n",
      "\n",
      "Number of rows: 9660\n",
      "Number of columns:  13\n"
     ]
    }
   ],
   "source": [
    "## Explore new android clean list ##\n",
    "explore_data(android_clean, 0, 1, True)"
   ]
  },
  {
   "cell_type": "markdown",
   "metadata": {
    "collapsed": false
   },
   "source": [
    "Here are the steps we took to remove duplicates from our Google Play dataset. \n",
    "    - Create two lists: android clean (store our new dataset with duplicates removed) and already added (store only app names)\n",
    "    - Append row of data from Google Play dataset to android clean list if \"reviews\" column matches in max review dictionary and app not in already added list and append row to already added list. - this helps us to keep track of apps that we already added."
   ]
  },
  {
   "cell_type": "code",
   "execution_count": 71,
   "metadata": {
    "collapsed": false
   },
   "outputs": [],
   "source": [
    "## Unique list of Apple apps ##\n",
    "apple_clean = list()\n",
    "apple_already_added = list()\n",
    "\n",
    "for row in apple_dataset:\n",
    "    name = row[1]\n",
    "    \n",
    "    if name not in apple_already_added:\n",
    "        apple_clean.append(row)\n",
    "        apple_already_added.append(name)"
   ]
  },
  {
   "cell_type": "markdown",
   "metadata": {},
   "source": [
    "Since not many duplicates exist, I just randomly remove the duplicates."
   ]
  },
  {
   "cell_type": "markdown",
   "metadata": {},
   "source": [
    "# Removing Non-English Apps #\n",
    "Exploring the dataset, we find that some apps seem to be directed toward a Non-English speaking audience. We explore a couple of examples from both datasets:"
   ]
  },
  {
   "cell_type": "markdown",
   "metadata": {},
   "source": [
    "### Part One ###"
   ]
  },
  {
   "cell_type": "code",
   "execution_count": 72,
   "metadata": {
    "collapsed": false
   },
   "outputs": [
    {
     "name": "stdout",
     "output_type": "stream",
     "text": [
      "みんなのお弁当 by クックパッド ~お弁当をレシピ付きで記録・共有~\n",
      "中国語 AQリスニング\n",
      "لعبة تقدر تربح DZ\n"
     ]
    }
   ],
   "source": [
    "## Few examples of non-english apps ##\n",
    "print(apple_clean[7194][1])\n",
    "print(android_clean[4412][0])\n",
    "print(android_clean[7940][0])"
   ]
  },
  {
   "cell_type": "markdown",
   "metadata": {},
   "source": [
    "We're not interested in keeping these kind of apps, so we'll remove them. One way to go about this is to remove each app whose name contains a symbol that is not commonly used in English text — English text usually includes letters from the English alphabet, numbers composed of digits from 0 to 9, punctuation marks (., !, ?, ;, etc.), and other symbols (+, *, /, etc.).\n",
    "\n",
    "All these characters that are specific to English texts are encoded using the ASCII standard. Each ASCII character has a corresponding number between 0 and 127 associated with it, and we can take advantage of that to build a function that checks an app name and tells us whether it contains non-ASCII characters.\n",
    "\n",
    "We built this function below, and we use the built-in ord() function to find out the corresponding encoding number of each character."
   ]
  },
  {
   "cell_type": "code",
   "execution_count": 73,
   "metadata": {
    "collapsed": false
   },
   "outputs": [
    {
     "name": "stdout",
     "output_type": "stream",
     "text": [
      "False\n",
      "True\n",
      "False\n",
      "False\n"
     ]
    }
   ],
   "source": [
    "## Function to test whether app title has characters that fall outside of the ASCII range 0-127 ##\n",
    "def english_test(app):\n",
    "    \n",
    "    for letter in app:\n",
    "        if ord(letter) > 127:\n",
    "            return False\n",
    "    return True\n",
    "\n",
    "## Test function ##\n",
    "print(english_test('Instachat 😜'))\n",
    "print(english_test('Instagram'))\n",
    "print(english_test('爱奇艺PPS -《欢乐颂2》电视剧热播'))\n",
    "print(english_test('Docs To Go™ Free Office Suite'))"
   ]
  },
  {
   "cell_type": "markdown",
   "metadata": {},
   "source": [
    "The function will need to be adjusted since the current version is removing English apps that contain emojis or other symbols (™, — (em dash), – (en dash), etc.) that fall outside of the ASCII range."
   ]
  },
  {
   "cell_type": "markdown",
   "metadata": {},
   "source": [
    "### Part Two ###\n",
    "To minimize the impact of data loss, we'll only remove an app if its name has more than three non-ASCII characters:"
   ]
  },
  {
   "cell_type": "code",
   "execution_count": 74,
   "metadata": {
    "collapsed": false
   },
   "outputs": [
    {
     "name": "stdout",
     "output_type": "stream",
     "text": [
      "True\n",
      "True\n",
      "False\n"
     ]
    }
   ],
   "source": [
    "## Adjust function to minimize the impact of data loss ##\n",
    "def english_test(app):\n",
    "    counter = 0\n",
    "    \n",
    "    for letter in app:\n",
    "        if ord(letter) > 127:\n",
    "            counter += 1\n",
    "            \n",
    "    if counter > 3: # app needs to have more than three non-ASCII characters in its title\n",
    "        return False\n",
    "    else:\n",
    "        return True\n",
    "    \n",
    "print(english_test('Instachat 😜'))\n",
    "print(english_test('Docs To Go™ Free Office Suite'))\n",
    "print(english_test('爱奇艺PPS -《欢乐颂2》电视剧热播'))"
   ]
  },
  {
   "cell_type": "code",
   "execution_count": 75,
   "metadata": {
    "collapsed": false
   },
   "outputs": [
    {
     "name": "stdout",
     "output_type": "stream",
     "text": [
      "['Photo Editor & Candy Camera & Grid & ScrapBook', 'ART_AND_DESIGN', '4.1', '159', '19M', '10,000+', 'Free', '0', 'Everyone', 'Art & Design', 'January 7, 2018', '1.0.0', '4.0.3 and up'] \n",
      "\n",
      "['U Launcher Lite – FREE Live Cool Themes, Hide Apps', 'ART_AND_DESIGN', '4.7', '87510', '8.7M', '5,000,000+', 'Free', '0', 'Everyone', 'Art & Design', 'August 1, 2018', '1.2.4', '4.0.3 and up'] \n",
      "\n",
      "['Sketch - Draw & Paint', 'ART_AND_DESIGN', '4.5', '215644', '25M', '50,000,000+', 'Free', '0', 'Teen', 'Art & Design', 'June 8, 2018', 'Varies with device', '4.2 and up'] \n",
      "\n",
      "Number of rows: 9615\n",
      "Number of columns:  13\n",
      "\n",
      "\n",
      "['284882215', 'Facebook', '389879808', 'USD', '0.0', '2974676', '212', '3.5', '3.5', '95.0', '4+', 'Social Networking', '37', '1', '29', '1'] \n",
      "\n",
      "['389801252', 'Instagram', '113954816', 'USD', '0.0', '2161558', '1289', '4.5', '4.0', '10.23', '12+', 'Photo & Video', '37', '0', '29', '1'] \n",
      "\n",
      "['529479190', 'Clash of Clans', '116476928', 'USD', '0.0', '2130805', '579', '4.5', '4.5', '9.24.12', '9+', 'Games', '38', '5', '18', '1'] \n",
      "\n",
      "Number of rows: 6181\n",
      "Number of columns:  16\n"
     ]
    }
   ],
   "source": [
    "## Utilize english test function to filter for English apps ##\n",
    "android_english = list()\n",
    "apple_english = list()\n",
    "\n",
    "for app in android_clean: \n",
    "    if english_test(app[0]):\n",
    "        android_english.append(app)\n",
    "        \n",
    "for app in apple_clean:\n",
    "    if english_test(app[1]):\n",
    "        apple_english.append(app)\n",
    "        \n",
    "explore_data(android_english, 0, 3, True)\n",
    "print('\\n')\n",
    "explore_data(apple_english, 0, 3, True)"
   ]
  },
  {
   "cell_type": "markdown",
   "metadata": {
    "collapsed": false
   },
   "source": [
    "# Isolating the Free Apps #\n",
    "As stated in our introduction, our precondition is that the app should be free. Our data sets contain both free and non-free apps, and we'll need to isolate only the free apps for our analysis. Below, we isolate the free apps for both our data sets."
   ]
  },
  {
   "cell_type": "code",
   "execution_count": 76,
   "metadata": {
    "collapsed": false
   },
   "outputs": [
    {
     "name": "stdout",
     "output_type": "stream",
     "text": [
      "Google Play total:  8865\n",
      "Apple Store total:  3220\n"
     ]
    }
   ],
   "source": [
    "## Create final datasets by filtering for free apps ##\n",
    "apple_final = list()\n",
    "android_final = list()\n",
    "\n",
    "for app in android_english:\n",
    "    if app[7] == '0':\n",
    "        android_final.append(app)\n",
    "        \n",
    "for app in apple_english:\n",
    "    if app[4] == '0.0':\n",
    "        apple_final.append(app)\n",
    "\n",
    "## Display number rows per dataset after isolating free apps ##\n",
    "print(\"Google Play total: \", len(android_final))\n",
    "print(\"Apple Store total: \", len(apple_final))"
   ]
  },
  {
   "cell_type": "markdown",
   "metadata": {},
   "source": [
    "# Most Common Apps by Genre #\n",
    "### Part One ###\n",
    "Our aim is to determine the type of apps that attract the most users.\n",
    "\n",
    "To minimize risks and overhead, our validation strategy for an app idea is comprised of three steps:\n",
    "1. Build a minimal Android version of the app, and add it to Google Play.\n",
    "2. If the app has a good response from users, we then develop it further.\n",
    "3. If the app is profitable after six months, we also build an iOS version of the app and add it to the App Store.\n",
    "\n",
    "Build a minimal Android version of the app, and add it to Google Play.\n",
    "If the app has a good response from users, we then develop it further.\n",
    "If the app is profitable after six months, we also build an iOS version of the app and add it to the App Store.\n",
    "Because our end goal is to add the app on both the App Store and Google Play, we need to find app profiles that are successful on both markets. For instance, a profile that might work well for both markets might be a productivity app that makes use of gamification."
   ]
  },
  {
   "cell_type": "markdown",
   "metadata": {},
   "source": [
    "### Part Two ###\n",
    "Two functions we can use to analyze the frequency tables:\n",
    "\n",
    "1. Generate frequency tables that show percentages\n",
    "2. Display the percentages in a descending order"
   ]
  },
  {
   "cell_type": "code",
   "execution_count": 77,
   "metadata": {
    "collapsed": true
   },
   "outputs": [],
   "source": [
    "## Function to create frequency table ##\n",
    "def freq_table(dataset, index):\n",
    "    freq_dict = dict()\n",
    "    total     = len(dataset)\n",
    "    \n",
    "    for row in dataset:\n",
    "        column = row[index]\n",
    "        if column in freq_dict:\n",
    "            freq_dict[column] += 1\n",
    "        else:\n",
    "            freq_dict[column] = 1\n",
    "    \n",
    "    for key, value in freq_dict.items():\n",
    "        freq_dict[key] = round((value / total) * 100, 2)\n",
    "    \n",
    "    return freq_dict\n",
    "\n",
    "## Function to display frequency table ##\n",
    "def display_table(dataset, index):\n",
    "    table         = freq_table(dataset, index)\n",
    "    table_display = []\n",
    "\n",
    "    for key in table:\n",
    "        key_val_as_tuple = (table[key], key)\n",
    "        table_display.append(key_val_as_tuple)\n",
    "        \n",
    "    table_sorted = sorted(table_display, reverse = True)\n",
    "    for entry in table_sorted:\n",
    "        print(entry[1], ':', entry[0])"
   ]
  },
  {
   "cell_type": "markdown",
   "metadata": {},
   "source": [
    "### Part Three ###\n",
    "Explore prime genre column from Apple Store dataset."
   ]
  },
  {
   "cell_type": "code",
   "execution_count": 78,
   "metadata": {
    "collapsed": false
   },
   "outputs": [
    {
     "name": "stdout",
     "output_type": "stream",
     "text": [
      "Games : 58.14\n",
      "Entertainment : 7.89\n",
      "Photo & Video : 4.97\n",
      "Education : 3.66\n",
      "Social Networking : 3.29\n",
      "Shopping : 2.61\n",
      "Utilities : 2.52\n",
      "Sports : 2.14\n",
      "Music : 2.05\n",
      "Health & Fitness : 2.02\n",
      "Productivity : 1.74\n",
      "Lifestyle : 1.58\n",
      "News : 1.34\n",
      "Travel : 1.24\n",
      "Finance : 1.12\n",
      "Weather : 0.87\n",
      "Food & Drink : 0.81\n",
      "Reference : 0.56\n",
      "Business : 0.53\n",
      "Book : 0.43\n",
      "Navigation : 0.19\n",
      "Medical : 0.19\n",
      "Catalogs : 0.12\n"
     ]
    }
   ],
   "source": [
    "display_table(apple_final, 11)"
   ]
  },
  {
   "cell_type": "markdown",
   "metadata": {},
   "source": [
    "Most common genre is Games. Runner-up is Entertainment. Games make up more than half the apps in the Apple store. Most apps are used for the purpose of entertainment such as Games, Music and Entertainment. \n",
    "\n",
    "Sole based on this analyze I could not make a recommend on the type of app to make. Market share isn't an indicator of amount of users. Social media have millions to billions of users yet them only make up 3.2% of apps in the market. I would better to make a determination on the number of users per genre.\n",
    "\n",
    "Explore category and genres columns from Google Play dataset."
   ]
  },
  {
   "cell_type": "code",
   "execution_count": 79,
   "metadata": {
    "collapsed": false
   },
   "outputs": [
    {
     "name": "stdout",
     "output_type": "stream",
     "text": [
      "FAMILY : 18.91\n",
      "GAME : 9.72\n",
      "TOOLS : 8.46\n",
      "BUSINESS : 4.59\n",
      "LIFESTYLE : 3.9\n",
      "PRODUCTIVITY : 3.89\n",
      "FINANCE : 3.7\n",
      "MEDICAL : 3.53\n",
      "SPORTS : 3.4\n",
      "PERSONALIZATION : 3.32\n",
      "COMMUNICATION : 3.24\n",
      "HEALTH_AND_FITNESS : 3.08\n",
      "PHOTOGRAPHY : 2.94\n",
      "NEWS_AND_MAGAZINES : 2.8\n",
      "SOCIAL : 2.66\n",
      "TRAVEL_AND_LOCAL : 2.34\n",
      "SHOPPING : 2.24\n",
      "BOOKS_AND_REFERENCE : 2.14\n",
      "DATING : 1.86\n",
      "VIDEO_PLAYERS : 1.79\n",
      "MAPS_AND_NAVIGATION : 1.4\n",
      "FOOD_AND_DRINK : 1.24\n",
      "EDUCATION : 1.16\n",
      "ENTERTAINMENT : 0.96\n",
      "LIBRARIES_AND_DEMO : 0.94\n",
      "AUTO_AND_VEHICLES : 0.92\n",
      "HOUSE_AND_HOME : 0.82\n",
      "WEATHER : 0.8\n",
      "EVENTS : 0.71\n",
      "PARENTING : 0.65\n",
      "ART_AND_DESIGN : 0.64\n",
      "COMICS : 0.62\n",
      "BEAUTY : 0.6\n",
      " : 0.01\n"
     ]
    }
   ],
   "source": [
    "display_table(android_final, 1) # Category"
   ]
  },
  {
   "cell_type": "code",
   "execution_count": 80,
   "metadata": {
    "collapsed": false
   },
   "outputs": [
    {
     "name": "stdout",
     "output_type": "stream",
     "text": [
      "Tools : 8.45\n",
      "Entertainment : 6.07\n",
      "Education : 5.35\n",
      "Business : 4.59\n",
      "Productivity : 3.89\n",
      "Lifestyle : 3.89\n",
      "Finance : 3.7\n",
      "Medical : 3.53\n",
      "Sports : 3.46\n",
      "Personalization : 3.32\n",
      "Communication : 3.24\n",
      "Action : 3.1\n",
      "Health & Fitness : 3.08\n",
      "Photography : 2.94\n",
      "News & Magazines : 2.8\n",
      "Social : 2.66\n",
      "Travel & Local : 2.32\n",
      "Shopping : 2.24\n",
      "Books & Reference : 2.14\n",
      "Simulation : 2.04\n",
      "Dating : 1.86\n",
      "Arcade : 1.85\n",
      "Video Players & Editors : 1.77\n",
      "Casual : 1.76\n",
      "Maps & Navigation : 1.4\n",
      "Food & Drink : 1.24\n",
      "Puzzle : 1.13\n",
      "Racing : 0.99\n",
      "Role Playing : 0.94\n",
      "Libraries & Demo : 0.94\n",
      "Auto & Vehicles : 0.92\n",
      "Strategy : 0.91\n",
      "House & Home : 0.82\n",
      "Weather : 0.8\n",
      "Events : 0.71\n",
      "Adventure : 0.68\n",
      "Comics : 0.61\n",
      "Beauty : 0.6\n",
      "Art & Design : 0.6\n",
      "Parenting : 0.5\n",
      "Card : 0.45\n",
      "Casino : 0.43\n",
      "Trivia : 0.42\n",
      "Educational;Education : 0.39\n",
      "Board : 0.38\n",
      "Educational : 0.37\n",
      "Education;Education : 0.34\n",
      "Word : 0.26\n",
      "Casual;Pretend Play : 0.24\n",
      "Music : 0.2\n",
      "Racing;Action & Adventure : 0.17\n",
      "Puzzle;Brain Games : 0.17\n",
      "Entertainment;Music & Video : 0.17\n",
      "Casual;Brain Games : 0.14\n",
      "Casual;Action & Adventure : 0.14\n",
      "Arcade;Action & Adventure : 0.12\n",
      "Action;Action & Adventure : 0.1\n",
      "Educational;Pretend Play : 0.09\n",
      "Simulation;Action & Adventure : 0.08\n",
      "Parenting;Education : 0.08\n",
      "Entertainment;Brain Games : 0.08\n",
      "Board;Brain Games : 0.08\n",
      "Parenting;Music & Video : 0.07\n",
      "Educational;Brain Games : 0.07\n",
      "Casual;Creativity : 0.07\n",
      "Art & Design;Creativity : 0.07\n",
      "Education;Pretend Play : 0.06\n",
      "Role Playing;Pretend Play : 0.05\n",
      "Education;Creativity : 0.05\n",
      "Role Playing;Action & Adventure : 0.03\n",
      "Puzzle;Action & Adventure : 0.03\n",
      "Entertainment;Creativity : 0.03\n",
      "Entertainment;Action & Adventure : 0.03\n",
      "Educational;Creativity : 0.03\n",
      "Educational;Action & Adventure : 0.03\n",
      "Education;Music & Video : 0.03\n",
      "Education;Brain Games : 0.03\n",
      "Education;Action & Adventure : 0.03\n",
      "Adventure;Action & Adventure : 0.03\n",
      "Video Players & Editors;Music & Video : 0.02\n",
      "Sports;Action & Adventure : 0.02\n",
      "Simulation;Pretend Play : 0.02\n",
      "Puzzle;Creativity : 0.02\n",
      "Music;Music & Video : 0.02\n",
      "Entertainment;Pretend Play : 0.02\n",
      "Casual;Education : 0.02\n",
      "Board;Action & Adventure : 0.02\n",
      "Video Players & Editors;Creativity : 0.01\n",
      "Trivia;Education : 0.01\n",
      "Travel & Local;Action & Adventure : 0.01\n",
      "Tools;Education : 0.01\n",
      "Strategy;Education : 0.01\n",
      "Strategy;Creativity : 0.01\n",
      "Strategy;Action & Adventure : 0.01\n",
      "Simulation;Education : 0.01\n",
      "Role Playing;Brain Games : 0.01\n",
      "Racing;Pretend Play : 0.01\n",
      "Puzzle;Education : 0.01\n",
      "Parenting;Brain Games : 0.01\n",
      "Music & Audio;Music & Video : 0.01\n",
      "Lifestyle;Pretend Play : 0.01\n",
      "Lifestyle;Education : 0.01\n",
      "Health & Fitness;Education : 0.01\n",
      "Health & Fitness;Action & Adventure : 0.01\n",
      "Entertainment;Education : 0.01\n",
      "Communication;Creativity : 0.01\n",
      "Comics;Creativity : 0.01\n",
      "Casual;Music & Video : 0.01\n",
      "Card;Action & Adventure : 0.01\n",
      "Books & Reference;Education : 0.01\n",
      "Art & Design;Pretend Play : 0.01\n",
      "Art & Design;Action & Adventure : 0.01\n",
      "Arcade;Pretend Play : 0.01\n",
      "Adventure;Education : 0.01\n",
      " : 0.01\n"
     ]
    }
   ],
   "source": [
    "display_table(android_final, 9) # Genres"
   ]
  },
  {
   "cell_type": "markdown",
   "metadata": {},
   "source": [
    "Most common genre is Tools. Runner-up is Entertainment. Google Play genres column seems like granular representation of the category column. I will switch focus to using category column for this analyis since it's more compact. Most common category genre is Family. Runner-up is Game. \n",
    "\n",
    "Up to this point, we found that the App Store is dominated by apps designed for fun, while Google Play shows a more balanced landscape of both practical and for-fun apps. Now we'd like to get an idea about the kind of apps that have most users."
   ]
  },
  {
   "cell_type": "markdown",
   "metadata": {},
   "source": [
    "# Most popular apps by genre in Apple Store (average number of users) #\n",
    "One way to find out what genres are the most popular (have the most users) is to calculate the average number of installs for each app genre. For the Google Play data set, we can find this information in the Installs column, but for the Apple Store dataset this information is missing. As a workaround, we'll take the total number of user ratings as a proxy, which we can find in the rating_count_tot column.\n",
    "\n",
    "Below, we calculate the average number of user ratings per app genre on the Apple Store:"
   ]
  },
  {
   "cell_type": "code",
   "execution_count": 81,
   "metadata": {
    "collapsed": false
   },
   "outputs": [
    {
     "name": "stdout",
     "output_type": "stream",
     "text": [
      "[('Navigation', 86090), ('Reference', 74942), ('Social Networking', 71548), ('Music', 57327), ('Weather', 52280), ('Book', 39758), ('Food & Drink', 33334), ('Finance', 31468), ('Photo & Video', 28442), ('Travel', 28244), ('Shopping', 26920), ('Health & Fitness', 23298), ('Sports', 23009), ('Games', 22813), ('News', 21248), ('Productivity', 21028), ('Utilities', 18684), ('Lifestyle', 16486), ('Entertainment', 14030), ('Business', 7491), ('Education', 7004), ('Catalogs', 4004), ('Medical', 612)]\n"
     ]
    }
   ],
   "source": [
    "apple_genre = freq_table(apple_final, 11)\n",
    "apple_users_sorted = dict()\n",
    "\n",
    "for key in apple_genre.keys():\n",
    "    total = 0\n",
    "    len_genre = 0\n",
    "    \n",
    "    for row in apple_final:\n",
    "        if row[11] == key:\n",
    "            total += float(row[5])\n",
    "            len_genre += 1\n",
    "    apple_users_sorted[key] = round(total/len_genre) # Calculation for average number of users\n",
    "    \n",
    "print(sorted(apple_users_sorted.items(), key = lambda kv: kv[1], reverse=True))"
   ]
  },
  {
   "cell_type": "code",
   "execution_count": 82,
   "metadata": {
    "collapsed": false
   },
   "outputs": [
    {
     "name": "stdout",
     "output_type": "stream",
     "text": [
      "Waze - GPS Navigation, Maps & Real-time Traffic : 345046\n",
      "Google Maps - Navigation & Transit : 154911\n",
      "Geocaching® : 12811\n",
      "CoPilot GPS – Car Navigation & Offline Maps : 3582\n",
      "ImmobilienScout24: Real Estate Search in Germany : 187\n",
      "\n",
      "\n",
      "Bible : 985920\n",
      "Dictionary.com Dictionary & Thesaurus : 200047\n",
      "Dictionary.com Dictionary & Thesaurus for iPad : 54175\n",
      "Google Translate : 26786\n",
      "Muslim Pro: Ramadan 2017 Prayer Times, Azan, Quran : 18418\n",
      "\n",
      "\n",
      "Facebook : 2974676\n",
      "Pinterest : 1061624\n",
      "Skype for iPhone : 373519\n",
      "Messenger : 351466\n",
      "Tumblr : 334293\n",
      "\n",
      "\n",
      "Calorie Counter & Diet Tracker by MyFitnessPal : 507706\n",
      "Lose It! – Weight Loss Program and Calorie Counter : 373835\n",
      "Weight Watchers : 136833\n",
      "Sleep Cycle alarm clock : 104539\n",
      "Fitbit : 90496\n"
     ]
    }
   ],
   "source": [
    "## Investigate most popular genres apps ##\n",
    "counter = 0 \n",
    "for app in apple_final:\n",
    "    if app[-5] == 'Navigation':\n",
    "        if counter < 5:\n",
    "            print(app[1], ':', app[5]) # total number of users per app\n",
    "            counter += 1\n",
    "print('\\n')\n",
    "\n",
    "counter = 0\n",
    "for app in apple_final:\n",
    "    if app[-5] == 'Reference':\n",
    "        if counter < 5:\n",
    "            print(app[1], ':', app[5]) # total number of users per app\n",
    "            counter += 1\n",
    "print('\\n')\n",
    "\n",
    "counter = 0\n",
    "for app in apple_final:\n",
    "    if app[-5] == 'Social Networking':\n",
    "        if counter < 5:\n",
    "            print(app[1], ':', app[5]) # total number of users per app\n",
    "            counter += 1\n",
    "print('\\n')\n",
    "            \n",
    "counter = 0\n",
    "for app in apple_final:\n",
    "    if app[-5] == 'Health & Fitness':\n",
    "        if counter < 5:\n",
    "            print(app[1], ':', app[5]) # total number of users per app\n",
    "            counter += 1"
   ]
  },
  {
   "cell_type": "markdown",
   "metadata": {},
   "source": [
    "On average, navigation apps have the highest number of user reviews, but this figure is heavily influenced by Waze and Google Maps, which have close to half a million user reviews together:\n",
    "\n",
    "The same pattern applies to social networking apps, where the average number is heavily influenced by a few giants like Facebook, Pinterest, Skype, etc.\n",
    "\n",
    "Our aim is to find popular genres, but navigation, social networking or music apps might seem more popular than they really are. The average number of ratings seem to be skewed by very few apps which have hundreds of thousands of user ratings.\n",
    "\n",
    "Reference apps have 74,942 user ratings on average, but it's actually the Bible and Dictionary.com which skew up the average rating.\n",
    "\n",
    "Recommend app profile: health & fitness\n",
    "\n",
    "Why? Because it seems like an undervalued genre. Apps in this genre average 23,000 users. The top two apps have more than 300,000 users. Which performs better against other apps not related to well known entities such as Facebook, Google Maps, Bible, or Starbucks. My specific aim would be to build an app targeted to runners and fitness enthusiasts. App to show all avaiable trails around the world. Fitness market is something that is growing as seen by the growth of gyms."
   ]
  },
  {
   "cell_type": "markdown",
   "metadata": {},
   "source": [
    "# Most popular apps by category in Google Play (average number of users) #\n",
    "The Google Play dataset contains the number of installs, so we should be able to get a clearer picture about genre popularity. However, most of values are open-ended (100+, 1,000+, 5,000+, etc.). The \"installs\" column is not precise but for this analysis we only want to get an idea of which app genres attract the most users.\n",
    "\n",
    "For this analysis, we'll need to remove the plus and comma symbols from \"installs\" column before converting to float datatype."
   ]
  },
  {
   "cell_type": "code",
   "execution_count": 83,
   "metadata": {
    "collapsed": false
   },
   "outputs": [
    {
     "name": "stdout",
     "output_type": "stream",
     "text": [
      "[('COMMUNICATION', 38456119), ('VIDEO_PLAYERS', 24727872), ('SOCIAL', 23253652), ('PHOTOGRAPHY', 17840110), ('PRODUCTIVITY', 16787331), ('GAME', 15588016), ('TRAVEL_AND_LOCAL', 13984078), ('ENTERTAINMENT', 11640706), ('TOOLS', 10801391), ('NEWS_AND_MAGAZINES', 9549178), ('BOOKS_AND_REFERENCE', 8767812), ('SHOPPING', 7036877), ('PERSONALIZATION', 5201483), ('WEATHER', 5074486), ('HEALTH_AND_FITNESS', 4188822), ('MAPS_AND_NAVIGATION', 4056942), ('FAMILY', 3695642), ('SPORTS', 3638640), ('ART_AND_DESIGN', 1986335), ('FOOD_AND_DRINK', 1924898), ('EDUCATION', 1833495), ('BUSINESS', 1712290), ('LIFESTYLE', 1437816), ('FINANCE', 1387692), ('HOUSE_AND_HOME', 1331541), ('DATING', 854029), ('COMICS', 817657), ('AUTO_AND_VEHICLES', 647318), ('LIBRARIES_AND_DEMO', 638504), ('PARENTING', 542604), ('BEAUTY', 513152), ('EVENTS', 253542), ('MEDICAL', 120551), ('', 1000)]\n"
     ]
    }
   ],
   "source": [
    "android_genre = freq_table(android_final, 1)\n",
    "android_users_sorted = dict()\n",
    "\n",
    "for key in android_genre.keys():\n",
    "    total = 0\n",
    "    len_category = 0\n",
    "    \n",
    "    for row in android_final:\n",
    "        if row[1] == key:\n",
    "            total += float(row[5].replace('+', '').replace(',', '')) # remove non-numeric characters\n",
    "            len_category += 1\n",
    "    android_users_sorted[key] = round(total/len_category) # Calculation for average number of users\n",
    "    \n",
    "print(sorted(android_users_sorted.items(), key = lambda kv: kv[1], reverse=True))"
   ]
  },
  {
   "cell_type": "code",
   "execution_count": 84,
   "metadata": {
    "collapsed": false
   },
   "outputs": [
    {
     "name": "stdout",
     "output_type": "stream",
     "text": [
      "WhatsApp Messenger : 1,000,000,000+\n",
      "imo beta free calls and text : 100,000,000+\n",
      "Android Messages : 100,000,000+\n",
      "Google Duo - High Quality Video Calls : 500,000,000+\n",
      "Messenger – Text and Video Chat for Free : 1,000,000,000+\n",
      "imo free video calls and chat : 500,000,000+\n",
      "Skype - free IM & video calls : 1,000,000,000+\n",
      "Who : 100,000,000+\n",
      "GO SMS Pro - Messenger, Free Themes, Emoji : 100,000,000+\n",
      "LINE: Free Calls & Messages : 500,000,000+\n",
      "Google Chrome: Fast & Secure : 1,000,000,000+\n",
      "Firefox Browser fast & private : 100,000,000+\n",
      "UC Browser - Fast Download Private & Secure : 500,000,000+\n",
      "Gmail : 1,000,000,000+\n",
      "Hangouts : 1,000,000,000+\n",
      "Messenger Lite: Free Calls & Messages : 100,000,000+\n",
      "Kik : 100,000,000+\n",
      "KakaoTalk: Free Calls & Text : 100,000,000+\n",
      "Opera Mini - fast web browser : 100,000,000+\n",
      "Opera Browser: Fast and Secure : 100,000,000+\n",
      "Telegram : 100,000,000+\n",
      "Truecaller: Caller ID, SMS spam blocking & Dialer : 100,000,000+\n",
      "UC Browser Mini -Tiny Fast Private & Secure : 100,000,000+\n",
      "Viber Messenger : 500,000,000+\n",
      "WeChat : 100,000,000+\n",
      "Yahoo Mail – Stay Organized : 100,000,000+\n",
      "BBM - Free Calls & Messages : 100,000,000+\n",
      "\n",
      "\n",
      "Facebook : 1,000,000,000+\n",
      "Facebook Lite : 500,000,000+\n",
      "Tumblr : 100,000,000+\n",
      "Pinterest : 100,000,000+\n",
      "Google+ : 1,000,000,000+\n",
      "Badoo - Free Chat & Dating App : 100,000,000+\n",
      "Tango - Live Video Broadcast : 100,000,000+\n",
      "Instagram : 1,000,000,000+\n",
      "Snapchat : 500,000,000+\n",
      "LinkedIn : 100,000,000+\n",
      "Tik Tok - including musical.ly : 100,000,000+\n",
      "BIGO LIVE - Live Stream : 100,000,000+\n",
      "VK : 100,000,000+\n",
      "\n",
      "\n",
      "Lose Belly Fat in 30 Days - Flat Stomach : 5,000,000+\n",
      "Six Pack in 30 Days - Abs Workout : 10,000,000+\n",
      "Lose Weight in 30 Days : 10,000,000+\n",
      "Pedometer : 10,000,000+\n",
      "LG Health : 10,000,000+\n",
      "Step Counter - Pedometer Free & Calorie Counter : 10,000,000+\n",
      "Pedometer, Step Counter & Weight Loss Tracker App : 10,000,000+\n",
      "30 Day Fitness Challenge - Workout at Home : 10,000,000+\n",
      "Fitbit : 10,000,000+\n",
      "Garmin Connect™ : 10,000,000+\n",
      "BetterMe: Weight Loss Workouts : 5,000,000+\n",
      "Runkeeper - GPS Track Run Walk : 10,000,000+\n",
      "8fit Workouts & Meal Planner : 10,000,000+\n",
      "Strava Training: Track Running, Cycling & Swimming : 10,000,000+\n",
      "Workout Trainer: fitness coach : 10,000,000+\n",
      "Fabulous: Motivate Me! Meditate, Relax, Sleep : 5,000,000+\n",
      "Run with Map My Run : 5,000,000+\n",
      "7 Minute Workout : 10,000,000+\n",
      "Freeletics: Personal Trainer & Fitness Workouts : 10,000,000+\n",
      "JEFIT Workout Tracker, Weight Lifting, Gym Log App : 5,000,000+\n",
      "Daily Workouts - Exercise Fitness Routine Trainer : 10,000,000+\n",
      "Google Fit - Fitness Tracking : 10,000,000+\n",
      "Sworkit: Workouts & Fitness Plans : 5,000,000+\n",
      "Sports Tracker Running Cycling : 5,000,000+\n",
      "Daily Yoga - Yoga Fitness Plans : 5,000,000+\n",
      "Relax Melodies: Sleep Sounds : 5,000,000+\n",
      "Headspace: Meditation & Mindfulness : 10,000,000+\n",
      "My Days - Ovulation Calendar & Period Tracker ™ : 5,000,000+\n",
      "Period Tracker : 10,000,000+\n",
      "Period Tracker Clue: Period and Ovulation Tracker : 10,000,000+\n",
      "Calorie Counter - MyFitnessPal : 50,000,000+\n",
      "WomanLog Calendar : 5,000,000+\n",
      "Geocaching® : 5,000,000+\n",
      "Water Drink Reminder : 10,000,000+\n",
      "YAZIO Calorie Counter, Nutrition Diary & Diet Plan : 5,000,000+\n",
      "Technutri - calorie counter, diet and carb tracker : 5,000,000+\n",
      "Weight Watchers Mobile : 5,000,000+\n",
      "Walk with Map My Walk : 5,000,000+\n",
      "My Diet Coach - Weight Loss Motivation & Tracker : 10,000,000+\n",
      "Endomondo - Running & Walking : 10,000,000+\n",
      "Nike+ Run Club : 10,000,000+\n",
      "Lose It! - Calorie Counter : 10,000,000+\n",
      "Runtastic Running App & Mile Tracker : 10,000,000+\n",
      "Monitor Your Weight : 5,000,000+\n",
      "Calorie Counter by FatSecret : 10,000,000+\n",
      "Calm - Meditate, Sleep, Relax : 5,000,000+\n",
      "Abs Workout - Burn Belly Fat with No Equipment : 10,000,000+\n",
      "Daily Ab Workout - Core & Abs Fitness Exercises : 10,000,000+\n",
      "Runtastic Sleep Better: Sleep Cycle & Smart Alarm : 5,000,000+\n",
      "Twilight: Blue light filter : 5,000,000+\n",
      "Nike Training Club - Workouts & Fitness Plans : 10,000,000+\n",
      "Ideal Weight, BMI Calculator : 5,000,000+\n",
      "Fitness & Bodybuilding : 5,000,000+\n",
      "Home Workout - No Equipment : 10,000,000+\n",
      "\n",
      "\n"
     ]
    }
   ],
   "source": [
    "## Investigate most popular genres apps ##\n",
    "install_list = ['1,000,000,000+', '500,000,000+', '100,000,000+']\n",
    "\n",
    "for app in android_final:\n",
    "    if app[1] == 'COMMUNICATION' and app[5] in install_list:\n",
    "            print(app[0], ':', app[5]) # total number of users per app\n",
    "print('\\n')\n",
    "for app in android_final:\n",
    "    if app[1] == 'SOCIAL' and app[5] in install_list:\n",
    "            print(app[0], ':', app[5]) # total number of users per app\n",
    "print('\\n')\n",
    "for app in android_final:\n",
    "    if app[1] == 'HEALTH_AND_FITNESS' and app[5] in ['50,000,000+', '10,000,000+', '5,000,000+']:\n",
    "            print(app[0], ':', app[5]) # total number of users per app\n",
    "print('\\n')"
   ]
  },
  {
   "cell_type": "markdown",
   "metadata": {},
   "source": [
    "Apps within the genres of communication, video players, social, photography, and productivity are heavily skewed because apps with installations over 500,000,000 are related to well known entities such as WhatsApp, Facebook, Skype, Google, Gmail, and social media messengers.\n",
    "\n",
    "Genres with potential include health and fitness, entertainment, and personalization.\n",
    "\n",
    "Recommend app profile: health & fitness\n",
    "\n",
    "Why? Like the Google Play Store it seems to be undervalued. These apps average over 4,000,000 installations. "
   ]
  },
  {
   "cell_type": "markdown",
   "metadata": {},
   "source": [
    "# Average rating by genre in Apple Store #\n",
    "Our next analysis is to a look at user ratings. It will gives an idea of the user satisfaction for apps within the genres."
   ]
  },
  {
   "cell_type": "code",
   "execution_count": 85,
   "metadata": {
    "collapsed": false
   },
   "outputs": [
    {
     "name": "stdout",
     "output_type": "stream",
     "text": [
      "[('Catalogs', 4.12), ('Games', 4.04), ('Productivity', 4.0), ('Business', 3.97), ('Shopping', 3.97), ('Music', 3.95), ('Photo & Video', 3.9), ('Navigation', 3.83), ('Health & Fitness', 3.77), ('Reference', 3.67), ('Education', 3.64), ('Food & Drink', 3.63), ('Social Networking', 3.59), ('Entertainment', 3.54), ('Utilities', 3.53), ('Travel', 3.49), ('Weather', 3.48), ('Lifestyle', 3.41), ('Finance', 3.38), ('News', 3.24), ('Sports', 3.07), ('Book', 3.07), ('Medical', 3.0)]\n"
     ]
    }
   ],
   "source": [
    "apple_genre = freq_table(apple_final, 11)\n",
    "apple_users_sorted = dict()\n",
    "\n",
    "for key in apple_genre.keys():\n",
    "    total = 0\n",
    "    len_genre = 0\n",
    "    \n",
    "    for row in apple_final:\n",
    "        if row[11] == key:\n",
    "            total += float(row[7])\n",
    "            len_genre += 1\n",
    "    apple_users_sorted[key] = round(total/len_genre, 2) # Calculation for average rating per app\n",
    "    \n",
    "print(sorted(apple_users_sorted.items(), key = lambda kv: kv[1], reverse=True))"
   ]
  },
  {
   "cell_type": "markdown",
   "metadata": {},
   "source": [
    "# Average rating by category in Google Play #\n",
    "For this analysis, we'll need to supress ratings that contain non-numeric characters otherwise we can't complete our calculation for average rating."
   ]
  },
  {
   "cell_type": "code",
   "execution_count": 86,
   "metadata": {
    "collapsed": false
   },
   "outputs": [
    {
     "name": "stdout",
     "output_type": "stream",
     "text": [
      "[('EVENTS', 4.44), ('BOOKS_AND_REFERENCE', 4.35), ('ART_AND_DESIGN', 4.34), ('PARENTING', 4.34), ('EDUCATION', 4.34), ('PERSONALIZATION', 4.3), ('BEAUTY', 4.28), ('SOCIAL', 4.25), ('HEALTH_AND_FITNESS', 4.24), ('WEATHER', 4.23), ('GAME', 4.23), ('SHOPPING', 4.23), ('SPORTS', 4.21), ('COMICS', 4.18), ('LIBRARIES_AND_DEMO', 4.18), ('AUTO_AND_VEHICLES', 4.18), ('PRODUCTIVITY', 4.18), ('FAMILY', 4.17), ('FOOD_AND_DRINK', 4.17), ('PHOTOGRAPHY', 4.16), ('MEDICAL', 4.15), ('HOUSE_AND_HOME', 4.14), ('COMMUNICATION', 4.13), ('FINANCE', 4.13), ('ENTERTAINMENT', 4.12), ('BUSINESS', 4.1), ('NEWS_AND_MAGAZINES', 4.1), ('LIFESTYLE', 4.08), ('TRAVEL_AND_LOCAL', 4.07), ('VIDEO_PLAYERS', 4.04), ('MAPS_AND_NAVIGATION', 4.04), ('TOOLS', 4.03), ('DATING', 3.98), ('', 1.9)]\n"
     ]
    }
   ],
   "source": [
    "android_genre = freq_table(android_final, 1)\n",
    "android_users_sorted = dict()\n",
    "\n",
    "for key in android_genre.keys():\n",
    "    total = 0\n",
    "    len_category = 0\n",
    "    \n",
    "    for row in android_final:\n",
    "        if row[1] == key and row[2].replace('.', '', 2).isdigit(): # Need to test whether all characters are numbers\n",
    "            total += float(row[2])\n",
    "            len_category += 1\n",
    "    android_users_sorted[key] = round(total/len_category, 2) # Calculation for average rating per app\n",
    "    \n",
    "print(sorted(android_users_sorted.items(), key = lambda kv: kv[1], reverse=True))"
   ]
  },
  {
   "cell_type": "markdown",
   "metadata": {
    "collapsed": true
   },
   "source": [
    "# Conclusion #\n",
    "In this project, we analyzed data about the App Store and Google Play mobile apps with the goal of recommending an app profile that can be profitable for both markets.\n",
    "\n",
    "Our conclusion is to build a fitness app. In both platforms this market is underserved. They are in the middle of the pack for average amount of users and ratings. An app that displays all available trails for runners and bikers also there is the possiblity of leveraging existing apps such as Google maps and fitbit. Start small by using large cities than expand to include other locations."
   ]
  }
 ],
 "metadata": {
  "kernelspec": {
   "display_name": "Python 3",
   "language": "python",
   "name": "python3"
  },
  "language_info": {
   "codemirror_mode": {
    "name": "ipython",
    "version": 3
   },
   "file_extension": ".py",
   "mimetype": "text/x-python",
   "name": "python",
   "nbconvert_exporter": "python",
   "pygments_lexer": "ipython3",
   "version": "3.4.3"
  }
 },
 "nbformat": 4,
 "nbformat_minor": 2
}
