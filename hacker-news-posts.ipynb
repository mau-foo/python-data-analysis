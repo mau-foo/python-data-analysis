{
 "cells": [
  {
   "cell_type": "markdown",
   "metadata": {},
   "source": [
    "# Exploring Hacker News Posts\n",
    "\n",
    "In this project, we'll compare two different types of posts from [Hacker News](https://news.ycombinator.com/), a popular site where technology related stories (or 'posts') are voted and commented upon. We will focus on two types of posts `Ask HN` or `Show HN`.\n",
    "\n",
    "Users submit `Ask HN` posts to ask the Hacker News community a specific question, such as \"What is the best online course you've ever taken?\" Likewise, users submit `Show HN` posts to show the Hacker News community a project, product, or just generally something interesting.\n",
    "\n",
    "Our analysis will answer the following questions:\n",
    " - Do `Ask HN` or `Show HN` receive more comments on average?\n",
    " - Do posts created at a certain time receive more comments on average?\n",
    " - Do `Ask HN` or `Show HN` receive more points on average?\n",
    " - Do posts created at a certain time receive more points on average?\n",
    "\n",
    "Please note that the data set we're working with was reduced from almost 300,000 rows to approximately 20,000 rows by removing all submissions that did not receive any comments, and then randomly sampling from the remaining submissions. Dataset available at [Kaggle](https://www.kaggle.com/hacker-news/hacker-news-posts)"
   ]
  },
  {
   "cell_type": "code",
   "execution_count": 19,
   "metadata": {
    "collapsed": false
   },
   "outputs": [],
   "source": [
    "# Import all libraries\n",
    "from csv import reader\n",
    "from datetime import datetime as dt"
   ]
  },
  {
   "cell_type": "code",
   "execution_count": 20,
   "metadata": {
    "collapsed": true
   },
   "outputs": [],
   "source": [
    "# Read in the data\n",
    "opened_file = reader(open('hacker_news.csv'))\n",
    "\n",
    "# Transform opened_file into a list of lists\n",
    "hn = list(opened_file)"
   ]
  },
  {
   "cell_type": "code",
   "execution_count": 21,
   "metadata": {
    "collapsed": false
   },
   "outputs": [
    {
     "data": {
      "text/plain": [
       "[['id', 'title', 'url', 'num_points', 'num_comments', 'author', 'created_at'],\n",
       " ['12224879',\n",
       "  'Interactive Dynamic Video',\n",
       "  'http://www.interactivedynamicvideo.com/',\n",
       "  '386',\n",
       "  '52',\n",
       "  'ne0phyte',\n",
       "  '8/4/2016 11:52'],\n",
       " ['10975351',\n",
       "  'How to Use Open Source and Shut the Fuck Up at the Same Time',\n",
       "  'http://hueniverse.com/2016/01/26/how-to-use-open-source-and-shut-the-fuck-up-at-the-same-time/',\n",
       "  '39',\n",
       "  '10',\n",
       "  'josep2',\n",
       "  '1/26/2016 19:30'],\n",
       " ['11964716',\n",
       "  \"Florida DJs May Face Felony for April Fools' Water Joke\",\n",
       "  'http://www.thewire.com/entertainment/2013/04/florida-djs-april-fools-water-joke/63798/',\n",
       "  '2',\n",
       "  '1',\n",
       "  'vezycash',\n",
       "  '6/23/2016 22:20'],\n",
       " ['11919867',\n",
       "  'Technology ventures: From Idea to Enterprise',\n",
       "  'https://www.amazon.com/Technology-Ventures-Enterprise-Thomas-Byers/dp/0073523429',\n",
       "  '3',\n",
       "  '1',\n",
       "  'hswarna',\n",
       "  '6/17/2016 0:01']]"
      ]
     },
     "execution_count": 21,
     "metadata": {},
     "output_type": "execute_result"
    }
   ],
   "source": [
    "# Display first five rows of Hacker News dataset\n",
    "hn[:5]"
   ]
  },
  {
   "cell_type": "code",
   "execution_count": 22,
   "metadata": {
    "collapsed": true
   },
   "outputs": [],
   "source": [
    "# Remove header and store in variable using pop method \n",
    "headers = hn.pop(0)"
   ]
  },
  {
   "cell_type": "code",
   "execution_count": 23,
   "metadata": {
    "collapsed": false
   },
   "outputs": [
    {
     "data": {
      "text/plain": [
       "[['12224879',\n",
       "  'Interactive Dynamic Video',\n",
       "  'http://www.interactivedynamicvideo.com/',\n",
       "  '386',\n",
       "  '52',\n",
       "  'ne0phyte',\n",
       "  '8/4/2016 11:52'],\n",
       " ['10975351',\n",
       "  'How to Use Open Source and Shut the Fuck Up at the Same Time',\n",
       "  'http://hueniverse.com/2016/01/26/how-to-use-open-source-and-shut-the-fuck-up-at-the-same-time/',\n",
       "  '39',\n",
       "  '10',\n",
       "  'josep2',\n",
       "  '1/26/2016 19:30'],\n",
       " ['11964716',\n",
       "  \"Florida DJs May Face Felony for April Fools' Water Joke\",\n",
       "  'http://www.thewire.com/entertainment/2013/04/florida-djs-april-fools-water-joke/63798/',\n",
       "  '2',\n",
       "  '1',\n",
       "  'vezycash',\n",
       "  '6/23/2016 22:20'],\n",
       " ['11919867',\n",
       "  'Technology ventures: From Idea to Enterprise',\n",
       "  'https://www.amazon.com/Technology-Ventures-Enterprise-Thomas-Byers/dp/0073523429',\n",
       "  '3',\n",
       "  '1',\n",
       "  'hswarna',\n",
       "  '6/17/2016 0:01'],\n",
       " ['10301696',\n",
       "  'Note by Note: The Making of Steinway L1037 (2007)',\n",
       "  'http://www.nytimes.com/2007/11/07/movies/07stein.html?_r=0',\n",
       "  '8',\n",
       "  '2',\n",
       "  'walterbell',\n",
       "  '9/30/2015 4:12']]"
      ]
     },
     "execution_count": 23,
     "metadata": {},
     "output_type": "execute_result"
    }
   ],
   "source": [
    "# Display first five rows of Hacker News dataset\n",
    "hn[:5]"
   ]
  },
  {
   "cell_type": "markdown",
   "metadata": {},
   "source": [
    "### Extracting Ask HN and Show HN Posts"
   ]
  },
  {
   "cell_type": "code",
   "execution_count": 24,
   "metadata": {
    "collapsed": false
   },
   "outputs": [],
   "source": [
    "# Identify posts that begin with either `Ask HN` or `Show HN` and separate the data into different lists.\n",
    "ask_posts = []\n",
    "show_posts = []\n",
    "other_posts = []\n",
    "\n",
    "for row in hn:\n",
    "    title = row[1].lower()\n",
    "    if title.startswith('ask hn'): # search for ask posts\n",
    "        ask_posts.append(row)\n",
    "    elif title.startswith('show hn'): # search for show posts\n",
    "        show_posts.append(row)\n",
    "    else:\n",
    "        other_posts.append(row)"
   ]
  },
  {
   "cell_type": "code",
   "execution_count": 25,
   "metadata": {
    "collapsed": false
   },
   "outputs": [
    {
     "name": "stdout",
     "output_type": "stream",
     "text": [
      "1744 Total ask posts\n",
      "1162 Total show posts\n",
      "17194 Total other posts\n"
     ]
    }
   ],
   "source": [
    "# Display number of posts for each post type\n",
    "print(\"{} Total ask posts\\n{} Total show posts\\n{} Total other posts\".format(len(ask_posts), len(show_posts), len(other_posts)))"
   ]
  },
  {
   "cell_type": "markdown",
   "metadata": {},
   "source": [
    "### Calculating the Average Number of Comments for Ask HN and Show HN Posts"
   ]
  },
  {
   "cell_type": "code",
   "execution_count": 26,
   "metadata": {
    "collapsed": false
   },
   "outputs": [
    {
     "name": "stdout",
     "output_type": "stream",
     "text": [
      "Average number of comments on ask posts:  14.038417431192661\n"
     ]
    }
   ],
   "source": [
    "# Calculate total comments for ask posts  \n",
    "total_ask_comments = 0\n",
    "for post in ask_posts:\n",
    "    total_ask_comments += int(post[4]) # add number of comments to total \n",
    "\n",
    "# Calculate average number of comments for ask posts\n",
    "avg_ask_comments = total_ask_comments / len(ask_posts)\n",
    "print(\"Average number of comments on ask posts: \", avg_ask_comments)"
   ]
  },
  {
   "cell_type": "code",
   "execution_count": 27,
   "metadata": {
    "collapsed": false
   },
   "outputs": [
    {
     "name": "stdout",
     "output_type": "stream",
     "text": [
      "Average number of comments on show posts:  10.31669535283993\n"
     ]
    }
   ],
   "source": [
    "# Calculate total comments for show posts  \n",
    "total_show_comments = 0\n",
    "for post in show_posts:\n",
    "    total_show_comments += int(post[4]) # add number of comments to total\n",
    "\n",
    "# Calculate average number of comments for show posts\n",
    "avg_show_comments = total_show_comments / len(show_posts)\n",
    "print(\"Average number of comments on show posts: \", avg_show_comments)"
   ]
  },
  {
   "cell_type": "markdown",
   "metadata": {},
   "source": [
    "##### Notes\n",
    "Ask posts receive more comments on average. My theory is that solutions sometimes do not provide enough details so users ask for more clarification or other users provide their own solution to the question. We'll focus this portion of analysis on `Ask HN` posts."
   ]
  },
  {
   "cell_type": "markdown",
   "metadata": {},
   "source": [
    "### Finding the Amount of Ask Posts and Comments by Hour Created"
   ]
  },
  {
   "cell_type": "code",
   "execution_count": 28,
   "metadata": {
    "collapsed": false
   },
   "outputs": [
    {
     "data": {
      "text/plain": [
       "[['8/16/2016 9:55', 6],\n",
       " ['11/22/2015 13:43', 29],\n",
       " ['5/2/2016 10:14', 1],\n",
       " ['8/2/2016 14:20', 3],\n",
       " ['10/15/2015 16:38', 17]]"
      ]
     },
     "execution_count": 28,
     "metadata": {},
     "output_type": "execute_result"
    }
   ],
   "source": [
    "# Create a list of list for number of comments per hour \n",
    "result_list = []\n",
    "\n",
    "for post in ask_posts:\n",
    "    result_list.append([post[6], int(post[4])]) # convert comments column to integer\n",
    "    \n",
    "result_list[:5]"
   ]
  },
  {
   "cell_type": "code",
   "execution_count": 29,
   "metadata": {
    "collapsed": false
   },
   "outputs": [
    {
     "data": {
      "text/plain": [
       "{'00': 447,\n",
       " '01': 683,\n",
       " '02': 1381,\n",
       " '03': 421,\n",
       " '04': 337,\n",
       " '05': 464,\n",
       " '06': 397,\n",
       " '07': 267,\n",
       " '08': 492,\n",
       " '09': 251,\n",
       " '10': 793,\n",
       " '11': 641,\n",
       " '12': 687,\n",
       " '13': 1253,\n",
       " '14': 1416,\n",
       " '15': 4477,\n",
       " '16': 1814,\n",
       " '17': 1146,\n",
       " '18': 1439,\n",
       " '19': 1188,\n",
       " '20': 1722,\n",
       " '21': 1745,\n",
       " '22': 479,\n",
       " '23': 543}"
      ]
     },
     "execution_count": 29,
     "metadata": {},
     "output_type": "execute_result"
    }
   ],
   "source": [
    "# Empty dictionaries\n",
    "posts_by_hour = {}\n",
    "comments_by_hour = {}\n",
    "\n",
    "# Calculate total posts and comments per hour  \n",
    "for row in result_list:\n",
    "    hour = dt.strptime(row[0], '%m/%d/%Y %H:%M').strftime('%H') # Extract hour for created_at column\n",
    "    if hour in posts_by_hour:\n",
    "        posts_by_hour[hour] += 1\n",
    "        comments_by_hour[hour] += row[1]\n",
    "    else:\n",
    "        posts_by_hour[hour] = 1\n",
    "        comments_by_hour[hour] = row[1]\n",
    "\n",
    "comments_by_hour"
   ]
  },
  {
   "cell_type": "markdown",
   "metadata": {},
   "source": [
    "### Calculating the Average Number of Comments for Ask HN Posts by Hour"
   ]
  },
  {
   "cell_type": "code",
   "execution_count": 30,
   "metadata": {
    "collapsed": false
   },
   "outputs": [
    {
     "data": {
      "text/plain": [
       "[['12', 9.41095890410959],\n",
       " ['06', 9.022727272727273],\n",
       " ['15', 38.5948275862069],\n",
       " ['04', 7.170212765957447],\n",
       " ['23', 7.985294117647059],\n",
       " ['10', 13.440677966101696],\n",
       " ['18', 13.20183486238532],\n",
       " ['14', 13.233644859813085],\n",
       " ['03', 7.796296296296297],\n",
       " ['05', 10.08695652173913],\n",
       " ['02', 23.810344827586206],\n",
       " ['20', 21.525],\n",
       " ['19', 10.8],\n",
       " ['16', 16.796296296296298],\n",
       " ['09', 5.5777777777777775],\n",
       " ['11', 11.051724137931034],\n",
       " ['08', 10.25],\n",
       " ['22', 6.746478873239437],\n",
       " ['01', 11.383333333333333],\n",
       " ['07', 7.852941176470588],\n",
       " ['21', 16.009174311926607],\n",
       " ['13', 14.741176470588234],\n",
       " ['17', 11.46],\n",
       " ['00', 8.127272727272727]]"
      ]
     },
     "execution_count": 30,
     "metadata": {},
     "output_type": "execute_result"
    }
   ],
   "source": [
    "# Calculate average commments per hour for `Ask HN`\n",
    "avg_by_hour = []\n",
    "\n",
    "for key, value in comments_by_hour.items():\n",
    "    avg_by_hour.append([key, (value / posts_by_hour[key])])\n",
    "    \n",
    "avg_by_hour"
   ]
  },
  {
   "cell_type": "code",
   "execution_count": 31,
   "metadata": {
    "collapsed": false
   },
   "outputs": [
    {
     "data": {
      "text/plain": [
       "[[9.41095890410959, '12'],\n",
       " [9.022727272727273, '06'],\n",
       " [38.5948275862069, '15'],\n",
       " [7.170212765957447, '04'],\n",
       " [7.985294117647059, '23'],\n",
       " [13.440677966101696, '10'],\n",
       " [13.20183486238532, '18'],\n",
       " [13.233644859813085, '14'],\n",
       " [7.796296296296297, '03'],\n",
       " [10.08695652173913, '05'],\n",
       " [23.810344827586206, '02'],\n",
       " [21.525, '20'],\n",
       " [10.8, '19'],\n",
       " [16.796296296296298, '16'],\n",
       " [5.5777777777777775, '09'],\n",
       " [11.051724137931034, '11'],\n",
       " [10.25, '08'],\n",
       " [6.746478873239437, '22'],\n",
       " [11.383333333333333, '01'],\n",
       " [7.852941176470588, '07'],\n",
       " [16.009174311926607, '21'],\n",
       " [14.741176470588234, '13'],\n",
       " [11.46, '17'],\n",
       " [8.127272727272727, '00']]"
      ]
     },
     "execution_count": 31,
     "metadata": {},
     "output_type": "execute_result"
    }
   ],
   "source": [
    "# Reverse elements in average comments per hour list\n",
    "swap_avg_by_hour = []\n",
    "\n",
    "for row in avg_by_hour:\n",
    "    swap_avg_by_hour.append([row[1], row[0]])\n",
    "    \n",
    "swap_avg_by_hour"
   ]
  },
  {
   "cell_type": "code",
   "execution_count": 32,
   "metadata": {
    "collapsed": true
   },
   "outputs": [],
   "source": [
    "# Sort swap avg by hour list in descending order\n",
    "sorted_swap = sorted(swap_avg_by_hour, reverse=True)"
   ]
  },
  {
   "cell_type": "code",
   "execution_count": 33,
   "metadata": {
    "collapsed": false
   },
   "outputs": [
    {
     "name": "stdout",
     "output_type": "stream",
     "text": [
      "Top 5 Hours for Ask Posts Comments\n",
      "15:00: 38.59 average comments per post\n",
      "02:00: 23.81 average comments per post\n",
      "20:00: 21.52 average comments per post\n",
      "16:00: 16.80 average comments per post\n",
      "21:00: 16.01 average comments per post\n"
     ]
    }
   ],
   "source": [
    "# Sort the values and print the the 5 hours with the highest average comments.\n",
    "\n",
    "print(\"Top 5 Hours for Ask Posts Comments\")\n",
    "\n",
    "for row in sorted_swap[:5]:\n",
    "    print(\"{}: {:.2f} average comments per post\".format(dt.strptime(row[1], '%H').strftime('%H:%M'), row[0]))"
   ]
  },
  {
   "cell_type": "markdown",
   "metadata": {},
   "source": [
    "##### Notes \n",
    "These hours are based on Eastern Time Zone.\n",
    "Top 5 hours for post comments: 3pm, 4pm, 8pm, 9pm, 2am.\n",
    "There's about a 60% increase in the number of comments between the hours with the highest and second highest average number of comments."
   ]
  },
  {
   "cell_type": "markdown",
   "metadata": {},
   "source": [
    "### Calculating the Average Number of Points for Ask HN and Show HN Posts"
   ]
  },
  {
   "cell_type": "code",
   "execution_count": 35,
   "metadata": {
    "collapsed": false
   },
   "outputs": [
    {
     "name": "stdout",
     "output_type": "stream",
     "text": [
      "Average number of points on ask posts:  15.061926605504587\n"
     ]
    }
   ],
   "source": [
    "# Calculate total points for ask posts  \n",
    "total_ask_points = 0\n",
    "for post in ask_posts:\n",
    "    total_ask_points += int(post[3]) # add number of comments to total \n",
    "\n",
    "# Calculate average number of points for ask posts\n",
    "avg_ask_points = total_ask_points / len(ask_posts)\n",
    "print(\"Average number of points on ask posts: \", avg_ask_points)"
   ]
  },
  {
   "cell_type": "code",
   "execution_count": 36,
   "metadata": {
    "collapsed": false
   },
   "outputs": [
    {
     "name": "stdout",
     "output_type": "stream",
     "text": [
      "Average number of points on show posts:  27.555077452667813\n"
     ]
    }
   ],
   "source": [
    "# Calculate total points for show posts  \n",
    "total_show_points = 0\n",
    "for post in show_posts:\n",
    "    total_show_points += int(post[3]) # add number of points to total\n",
    "\n",
    "# Calculate average number of points for show posts\n",
    "avg_show_points = total_show_points / len(show_posts)\n",
    "print(\"Average number of points on show posts: \", avg_show_points)"
   ]
  },
  {
   "cell_type": "markdown",
   "metadata": {},
   "source": [
    "##### Notes\n",
    "Show posts receive more points on average. My theory is that show posts might have more interactive elements like videos or graphs that helps generate more points. We'll focus this portion of the analysis on `Show HN` posts."
   ]
  },
  {
   "cell_type": "markdown",
   "metadata": {},
   "source": [
    "### Finding the Amount of Show Posts and Points by Hour Created"
   ]
  },
  {
   "cell_type": "code",
   "execution_count": 39,
   "metadata": {
    "collapsed": false
   },
   "outputs": [
    {
     "data": {
      "text/plain": [
       "[['11/25/2015 14:03', 26],\n",
       " ['11/29/2015 22:46', 747],\n",
       " ['4/28/2016 18:05', 1],\n",
       " ['7/28/2016 7:11', 3],\n",
       " ['1/9/2016 20:45', 1]]"
      ]
     },
     "execution_count": 39,
     "metadata": {},
     "output_type": "execute_result"
    }
   ],
   "source": [
    "# Create a list of list for number of points per hour \n",
    "result_list = []\n",
    "\n",
    "for post in show_posts:\n",
    "    result_list.append([post[6], int(post[3])]) # convert points column to integer\n",
    "    \n",
    "result_list[:5]"
   ]
  },
  {
   "cell_type": "code",
   "execution_count": 40,
   "metadata": {
    "collapsed": false
   },
   "outputs": [
    {
     "data": {
      "text/plain": [
       "{'00': 1173,\n",
       " '01': 700,\n",
       " '02': 340,\n",
       " '03': 679,\n",
       " '04': 386,\n",
       " '05': 104,\n",
       " '06': 375,\n",
       " '07': 494,\n",
       " '08': 519,\n",
       " '09': 553,\n",
       " '10': 681,\n",
       " '11': 1480,\n",
       " '12': 2543,\n",
       " '13': 2438,\n",
       " '14': 2187,\n",
       " '15': 2228,\n",
       " '16': 2634,\n",
       " '17': 2521,\n",
       " '18': 2215,\n",
       " '19': 1702,\n",
       " '20': 1819,\n",
       " '21': 866,\n",
       " '22': 1856,\n",
       " '23': 1526}"
      ]
     },
     "execution_count": 40,
     "metadata": {},
     "output_type": "execute_result"
    }
   ],
   "source": [
    "# Empty dictionaries\n",
    "posts_by_hour = {}\n",
    "points_by_hour = {}\n",
    "\n",
    "# Calculate total posts and points per hour  \n",
    "for row in result_list:\n",
    "    hour = dt.strptime(row[0], '%m/%d/%Y %H:%M').strftime('%H') # Extract hour for created_at column\n",
    "    if hour in posts_by_hour:\n",
    "        posts_by_hour[hour] += 1\n",
    "        points_by_hour[hour] += row[1]\n",
    "    else:\n",
    "        posts_by_hour[hour] = 1\n",
    "        points_by_hour[hour] = row[1]\n",
    "\n",
    "points_by_hour"
   ]
  },
  {
   "cell_type": "markdown",
   "metadata": {},
   "source": [
    "### Calculating the Average Number of Points for Show HN Posts by Hour"
   ]
  },
  {
   "cell_type": "code",
   "execution_count": 43,
   "metadata": {
    "collapsed": false
   },
   "outputs": [
    {
     "data": {
      "text/plain": [
       "[['12', 41.68852459016394],\n",
       " ['22', 40.34782608695652],\n",
       " ['07', 19.0],\n",
       " ['15', 28.564102564102566],\n",
       " ['04', 14.846153846153847],\n",
       " ['06', 23.4375],\n",
       " ['10', 18.916666666666668],\n",
       " ['20', 30.316666666666666],\n",
       " ['14', 25.430232558139537],\n",
       " ['23', 42.388888888888886],\n",
       " ['05', 5.473684210526316],\n",
       " ['02', 11.333333333333334],\n",
       " ['19', 30.945454545454545],\n",
       " ['03', 25.14814814814815],\n",
       " ['16', 28.322580645161292],\n",
       " ['09', 18.433333333333334],\n",
       " ['11', 33.63636363636363],\n",
       " ['08', 15.264705882352942],\n",
       " ['18', 36.31147540983606],\n",
       " ['01', 25.0],\n",
       " ['21', 18.425531914893618],\n",
       " ['13', 24.626262626262626],\n",
       " ['17', 27.107526881720432],\n",
       " ['00', 37.83870967741935]]"
      ]
     },
     "execution_count": 43,
     "metadata": {},
     "output_type": "execute_result"
    }
   ],
   "source": [
    "# Calculate average points per hour for `Show HN`\n",
    "avg_by_hour = []\n",
    "\n",
    "for key, value in points_by_hour.items():\n",
    "    avg_by_hour.append([key, (value / posts_by_hour[key])])\n",
    "    \n",
    "avg_by_hour"
   ]
  },
  {
   "cell_type": "code",
   "execution_count": 44,
   "metadata": {
    "collapsed": false
   },
   "outputs": [
    {
     "data": {
      "text/plain": [
       "[[41.68852459016394, '12'],\n",
       " [40.34782608695652, '22'],\n",
       " [19.0, '07'],\n",
       " [28.564102564102566, '15'],\n",
       " [14.846153846153847, '04'],\n",
       " [23.4375, '06'],\n",
       " [18.916666666666668, '10'],\n",
       " [30.316666666666666, '20'],\n",
       " [25.430232558139537, '14'],\n",
       " [42.388888888888886, '23'],\n",
       " [5.473684210526316, '05'],\n",
       " [11.333333333333334, '02'],\n",
       " [30.945454545454545, '19'],\n",
       " [25.14814814814815, '03'],\n",
       " [28.322580645161292, '16'],\n",
       " [18.433333333333334, '09'],\n",
       " [33.63636363636363, '11'],\n",
       " [15.264705882352942, '08'],\n",
       " [36.31147540983606, '18'],\n",
       " [25.0, '01'],\n",
       " [18.425531914893618, '21'],\n",
       " [24.626262626262626, '13'],\n",
       " [27.107526881720432, '17'],\n",
       " [37.83870967741935, '00']]"
      ]
     },
     "execution_count": 44,
     "metadata": {},
     "output_type": "execute_result"
    }
   ],
   "source": [
    "# Reverse elements in average comments per hour list\n",
    "swap_avg_by_hour = []\n",
    "\n",
    "for row in avg_by_hour:\n",
    "    swap_avg_by_hour.append([row[1], row[0]])\n",
    "    \n",
    "swap_avg_by_hour"
   ]
  },
  {
   "cell_type": "code",
   "execution_count": 45,
   "metadata": {
    "collapsed": true
   },
   "outputs": [],
   "source": [
    "# Sort swap avg by hour list in descending order\n",
    "sorted_swap = sorted(swap_avg_by_hour, reverse=True)"
   ]
  },
  {
   "cell_type": "code",
   "execution_count": 48,
   "metadata": {
    "collapsed": false
   },
   "outputs": [
    {
     "name": "stdout",
     "output_type": "stream",
     "text": [
      "Top 5 Hours for Show Post Points\n",
      "23:00: 42.39 average points per post\n",
      "12:00: 41.69 average points per post\n",
      "22:00: 40.35 average points per post\n",
      "00:00: 37.84 average points per post\n",
      "18:00: 36.31 average points per post\n"
     ]
    }
   ],
   "source": [
    "# Sort the values and print the the 5 hours with the highest average points.\n",
    "\n",
    "print(\"Top 5 Hours for Show Post Points\")\n",
    "\n",
    "for row in sorted_swap[:5]:\n",
    "    print(\"{}: {:.2f} average points per post\".format(dt.strptime(row[1], '%H').strftime('%H:%M'), row[0]))"
   ]
  },
  {
   "cell_type": "markdown",
   "metadata": {},
   "source": [
    "##### Notes \n",
    "These hours are based on Eastern Time Zone.\n",
    "Top 5 hours for post points: 6pm, 10pm, 11pm, 12am, and 12pm.\n",
    "Four of the five top hours is within 6 hour window. From 6pm - 12am. Average points for the top 5 is 39.7."
   ]
  },
  {
   "cell_type": "markdown",
   "metadata": {},
   "source": [
    "# Conclusion\n",
    "In this project, we analyzed ask posts and show posts to determine which type of post and time receive the most comments and points on average. Based on our analysis, to maximize the amount of comments a post receives, we'd recommend the post be categorized as ask post and created between 15:00 and 16:00 (3:00 pm est - 4:00 pm est). To maximize the amount of points a post receives, we'd recommend the post be categorized as show post and created between 22:00 and 00:00 (10:00 pm est - 12:00 am est).\n",
    "\n",
    "However, it should be noted that the data set we analyzed excluded posts without any comments. With that in mind, it's more accurate to say that of the posts that received comments, ask posts received more comments on average and ask posts created between 15:00 and 16:00 (3:00 pm est - 4:00 pm est) received the most comments on average."
   ]
  }
 ],
 "metadata": {
  "kernelspec": {
   "display_name": "Python 3",
   "language": "python",
   "name": "python3"
  },
  "language_info": {
   "codemirror_mode": {
    "name": "ipython",
    "version": 3
   },
   "file_extension": ".py",
   "mimetype": "text/x-python",
   "name": "python",
   "nbconvert_exporter": "python",
   "pygments_lexer": "ipython3",
   "version": "3.4.3"
  }
 },
 "nbformat": 4,
 "nbformat_minor": 2
}
